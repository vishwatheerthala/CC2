{
 "cells": [
  {
   "cell_type": "code",
   "execution_count": 1,
   "id": "3072852d",
   "metadata": {},
   "outputs": [],
   "source": [
    "from pyspark import SparkContext, SparkConf\n",
    "from pyspark.sql import SparkSession\n",
    "from pyspark.ml.feature import VectorAssembler\n",
    "from pyspark.ml.evaluation import MulticlassClassificationEvaluator\n",
    "from pyspark.ml.classification import RandomForestClassifier"
   ]
  },
  {
   "cell_type": "code",
   "execution_count": 2,
   "id": "63eeb3e1",
   "metadata": {},
   "outputs": [],
   "source": [
    "# Set up Spark configuration\n",
    "conf = SparkConf().setAppName(\"WineQualityPrediction\")\n",
    "sc = SparkContext(conf=conf)\n",
    "spark = SparkSession(sc)"
   ]
  },
  {
   "cell_type": "code",
   "execution_count": 3,
   "id": "3932c934",
   "metadata": {},
   "outputs": [],
   "source": [
    "# Load training dataset\n",
    "training_data = spark.read.csv(\"TrainingDataset.csv\", header=True, inferSchema=True)\n",
    "\n",
    "# Load validation dataset\n",
    "validation_data = spark.read.csv(\"ValidationDataset.csv\", header=True, inferSchema=True)"
   ]
  },
  {
   "cell_type": "code",
   "execution_count": 4,
   "id": "f856ba3f",
   "metadata": {},
   "outputs": [],
   "source": [
    "# Preprocess data\n",
    "feature_columns = ['fixed acidity', 'volatile acidity', 'citric acid', 'residual sugar',\n",
    "                   'chlorides', 'free sulfur dioxide', 'total sulfur dioxide',\n",
    "                   'density', 'pH', 'sulphates', 'alcohol']\n",
    "assembler = VectorAssembler(inputCols=feature_columns, outputCol=\"features\")\n",
    "training_data = assembler.transform(training_data)\n",
    "validation_data = assembler.transform(validation_data)"
   ]
  },
  {
   "cell_type": "code",
   "execution_count": 5,
   "id": "adce383d",
   "metadata": {},
   "outputs": [],
   "source": [
    "# Evaluate model performance\n",
    "rf = RandomForestClassifier(labelCol=\"quality\", featuresCol=\"features\", numTrees=10)\n",
    "model = rf.fit(training_data)"
   ]
  },
  {
   "cell_type": "code",
   "execution_count": 6,
   "id": "9491d70d",
   "metadata": {},
   "outputs": [],
   "source": [
    "# Make predictions on validation data\n",
    "predictions = model.transform(validation_data)"
   ]
  },
  {
   "cell_type": "code",
   "execution_count": 18,
   "id": "e64b9d09",
   "metadata": {},
   "outputs": [],
   "source": [
    "# Evaluate model performance\n",
    "evaluator = MulticlassClassificationEvaluator(labelCol=\"quality\", predictionCol=\"prediction\", metricName=\"f1\")\n",
    "f1_score = evaluator.evaluate(predictions)"
   ]
  },
  {
   "cell_type": "code",
   "execution_count": 8,
   "id": "a9c3b09e",
   "metadata": {},
   "outputs": [
    {
     "data": {
      "text/plain": [
       "0.5610330784574469"
      ]
     },
     "execution_count": 8,
     "metadata": {},
     "output_type": "execute_result"
    }
   ],
   "source": [
    "f1_score"
   ]
  },
  {
   "cell_type": "code",
   "execution_count": null,
   "id": "e7293a6d",
   "metadata": {},
   "outputs": [],
   "source": []
  }
 ],
 "metadata": {
  "kernelspec": {
   "display_name": "Python 3 (ipykernel)",
   "language": "python",
   "name": "python3"
  },
  "language_info": {
   "codemirror_mode": {
    "name": "ipython",
    "version": 3
   },
   "file_extension": ".py",
   "mimetype": "text/x-python",
   "name": "python",
   "nbconvert_exporter": "python",
   "pygments_lexer": "ipython3",
   "version": "3.10.9"
  }
 },
 "nbformat": 4,
 "nbformat_minor": 5
}
